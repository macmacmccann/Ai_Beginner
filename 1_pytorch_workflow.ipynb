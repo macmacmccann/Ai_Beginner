{
  "nbformat": 4,
  "nbformat_minor": 0,
  "metadata": {
    "colab": {
      "provenance": [],
      "authorship_tag": "ABX9TyPy32mh1jatQfozohnPu2Jb",
      "include_colab_link": true
    },
    "kernelspec": {
      "name": "python3",
      "display_name": "Python 3"
    },
    "language_info": {
      "name": "python"
    }
  },
  "cells": [
    {
      "cell_type": "markdown",
      "metadata": {
        "id": "view-in-github",
        "colab_type": "text"
      },
      "source": [
        "<a href=\"https://colab.research.google.com/github/macmacmccann/Ai_Beginner/blob/main/1_pytorch_workflow.ipynb\" target=\"_parent\"><img src=\"https://colab.research.google.com/assets/colab-badge.svg\" alt=\"Open In Colab\"/></a>"
      ]
    },
    {
      "cell_type": "code",
      "execution_count": null,
      "metadata": {
        "id": "K5VZC1rHVXgb"
      },
      "outputs": [],
      "source": [
        "# Pytorch Workflow\n",
        "\n",
        "\n",
        "# Lets explore an exmaple pytorch end to end workflow\n",
        "\n",
        "\n"
      ]
    },
    {
      "cell_type": "code",
      "source": [
        "import torch\n",
        "from torch import nn # nn imports all of pytorchs building blocks for nerual networks\n",
        "# look up neurall network in images  google - this is what import\n",
        "\n",
        "import matpotlib.pyplot as plt\n"
      ],
      "metadata": {
        "id": "Q5NulKtOV1jE"
      },
      "execution_count": null,
      "outputs": []
    },
    {
      "cell_type": "markdown",
      "source": [
        "#Data can be ALMOST ANYTHING.. in machine learning\n",
        "\n",
        "* Excel spreasheets\n",
        "*Images of any kind\n",
        "*Videos\n",
        "*Audio\n",
        "*DNA\n",
        "* Text\n",
        "\n",
        "##Name other ones ::\n",
        "\n",
        "Movement patterns -\n",
        "Find out where to move\n",
        "\n",
        "---\n",
        "\n",
        "Machine learning is a game of two parts:\n",
        "\n",
        "1. Get data into a numerical represenation\n",
        "2. Build a model to learn patterns in that numerical represenation.\n",
        "\n",
        "---\n",
        "#Workflow\n",
        "\n",
        "\n",
        "### 1. Inputs and numerical encoding\n",
        "\n",
        "Represent any input /data as numerical representation.\n",
        "\n",
        "\n",
        "### Build a neural network to learn a  representation\n",
        "\n",
        "patterns & feautres & weights\n",
        "\n",
        "### Output that represnation\n",
        "\n",
        "Turn back into nurmical data - and then its the result - eg., hi how are you?\n",
        "---\n",
        "\n",
        "\n",
        "\n",
        "\n"
      ],
      "metadata": {
        "id": "T-GBBfdKWow0"
      }
    },
    {
      "cell_type": "code",
      "source": [],
      "metadata": {
        "id": "c1IO81NYZ8_i"
      },
      "execution_count": null,
      "outputs": []
    },
    {
      "cell_type": "markdown",
      "source": [
        "## Linear Regression Formula\n",
        "\\\n",
        "Y = a + bX\n",
        "\n",
        "Lets crate some *known* data using linear regression formula\n",
        "\n",
        "We will use a linear regression formula to make a straight line with known *parameters*\n",
        "\n",
        "A paramter is something a model learns\n",
        "\n"
      ],
      "metadata": {
        "id": "WI1uRgxlv1au"
      }
    },
    {
      "cell_type": "code",
      "source": [
        "import torch\n",
        "\n",
        "# Create a known parateter\n",
        "\n",
        "weight = 0.7\n",
        "bias = 0.3\n",
        "\n",
        "# We know these numbers but we want to create a model to estimate these numbers .\n",
        "\n",
        "start = 0\n",
        "end = 1\n",
        "step = 0.02\n",
        "\n",
        "X = torch.arange(start, end, step).unsqueeze(dim=1)\n",
        "\n",
        "Y  = weight * X + bias\n",
        "\n",
        "X[:10], Y[:10]\n"
      ],
      "metadata": {
        "id": "C_Wn_Z5CW4em",
        "colab": {
          "base_uri": "https://localhost:8080/"
        },
        "outputId": "a65a4e9d-9ad4-4f14-83b2-3c849b5a9ce5"
      },
      "execution_count": null,
      "outputs": [
        {
          "output_type": "execute_result",
          "data": {
            "text/plain": [
              "(tensor([[0.0000],\n",
              "         [0.0200],\n",
              "         [0.0400],\n",
              "         [0.0600],\n",
              "         [0.0800],\n",
              "         [0.1000],\n",
              "         [0.1200],\n",
              "         [0.1400],\n",
              "         [0.1600],\n",
              "         [0.1800]]),\n",
              " tensor([[0.3000],\n",
              "         [0.3140],\n",
              "         [0.3280],\n",
              "         [0.3420],\n",
              "         [0.3560],\n",
              "         [0.3700],\n",
              "         [0.3840],\n",
              "         [0.3980],\n",
              "         [0.4120],\n",
              "         [0.4260]]))"
            ]
          },
          "metadata": {},
          "execution_count": 6
        }
      ]
    },
    {
      "cell_type": "code",
      "source": [
        "### Splitting data into training and tests sets (one of the most important concepts in machine learning in general .)\n",
        "\n",
        "len(X), len(Y)\n"
      ],
      "metadata": {
        "colab": {
          "base_uri": "https://localhost:8080/"
        },
        "id": "i76XHCo5zyb1",
        "outputId": "c2b19890-5d03-4907-dcab-1a5233d46840"
      },
      "execution_count": null,
      "outputs": [
        {
          "output_type": "execute_result",
          "data": {
            "text/plain": [
              "(50, 50)"
            ]
          },
          "metadata": {},
          "execution_count": 7
        }
      ]
    },
    {
      "cell_type": "markdown",
      "source": [
        "### Splitting data into training and tests sets (one of the most important concepts in machine learning in general .)\n",
        "\n",
        "Generalisation = the ability for a machine learning model to perform well on data it hasnt seen yet .\n",
        "\n",
        "For the model you can think like it as you would be\n",
        "\n",
        "Course Matierials = training sets\n",
        "/\n",
        "\n",
        "Practice Exam = validation set\n",
        "/\n",
        "\n",
        "Final Exam = test set\n"
      ],
      "metadata": {
        "id": "ng1aNei00SZM"
      }
    },
    {
      "cell_type": "markdown",
      "source": [
        "#https://www.learnpytorch.io/01_pytorch_workflow/"
      ],
      "metadata": {
        "id": "NXIr4x7L3-Rs"
      }
    },
    {
      "cell_type": "code",
      "source": [
        "# Create a train/ test split\n",
        "\n",
        "train_split = int(0.8 * len(X))\n",
        "train_split"
      ],
      "metadata": {
        "colab": {
          "base_uri": "https://localhost:8080/"
        },
        "id": "vDCG61qq3-6b",
        "outputId": "280570dc-6ae7-4ecf-f534-8a5415015e92"
      },
      "execution_count": null,
      "outputs": [
        {
          "output_type": "execute_result",
          "data": {
            "text/plain": [
              "40"
            ]
          },
          "metadata": {},
          "execution_count": 9
        }
      ]
    },
    {
      "cell_type": "code",
      "source": [
        "X_train, Y_train = X[:train_split], Y[:train_split]\n",
        "X_test,Y_test = X[train_split:], Y[train_split:]\n",
        "\n",
        "len(X_train), len(Y_train), len(X_test), len(Y_test)"
      ],
      "metadata": {
        "colab": {
          "base_uri": "https://localhost:8080/"
        },
        "id": "_zOffU4t4-2L",
        "outputId": "ccfcb0f6-6661-4682-cd25-9890b5710d0a"
      },
      "execution_count": null,
      "outputs": [
        {
          "output_type": "execute_result",
          "data": {
            "text/plain": [
              "(40, 40, 10, 10)"
            ]
          },
          "metadata": {},
          "execution_count": 10
        }
      ]
    },
    {
      "cell_type": "code",
      "source": [
        "X_train, Y_train"
      ],
      "metadata": {
        "colab": {
          "base_uri": "https://localhost:8080/"
        },
        "id": "S3BawnJd4171",
        "outputId": "8bd8ec33-678d-4d82-cdd2-d5d111688fb4"
      },
      "execution_count": null,
      "outputs": [
        {
          "output_type": "execute_result",
          "data": {
            "text/plain": [
              "(tensor([[0.0000],\n",
              "         [0.0200],\n",
              "         [0.0400],\n",
              "         [0.0600],\n",
              "         [0.0800],\n",
              "         [0.1000],\n",
              "         [0.1200],\n",
              "         [0.1400],\n",
              "         [0.1600],\n",
              "         [0.1800],\n",
              "         [0.2000],\n",
              "         [0.2200],\n",
              "         [0.2400],\n",
              "         [0.2600],\n",
              "         [0.2800],\n",
              "         [0.3000],\n",
              "         [0.3200],\n",
              "         [0.3400],\n",
              "         [0.3600],\n",
              "         [0.3800],\n",
              "         [0.4000],\n",
              "         [0.4200],\n",
              "         [0.4400],\n",
              "         [0.4600],\n",
              "         [0.4800],\n",
              "         [0.5000],\n",
              "         [0.5200],\n",
              "         [0.5400],\n",
              "         [0.5600],\n",
              "         [0.5800],\n",
              "         [0.6000],\n",
              "         [0.6200],\n",
              "         [0.6400],\n",
              "         [0.6600],\n",
              "         [0.6800],\n",
              "         [0.7000],\n",
              "         [0.7200],\n",
              "         [0.7400],\n",
              "         [0.7600],\n",
              "         [0.7800]]),\n",
              " tensor([[0.3000],\n",
              "         [0.3140],\n",
              "         [0.3280],\n",
              "         [0.3420],\n",
              "         [0.3560],\n",
              "         [0.3700],\n",
              "         [0.3840],\n",
              "         [0.3980],\n",
              "         [0.4120],\n",
              "         [0.4260],\n",
              "         [0.4400],\n",
              "         [0.4540],\n",
              "         [0.4680],\n",
              "         [0.4820],\n",
              "         [0.4960],\n",
              "         [0.5100],\n",
              "         [0.5240],\n",
              "         [0.5380],\n",
              "         [0.5520],\n",
              "         [0.5660],\n",
              "         [0.5800],\n",
              "         [0.5940],\n",
              "         [0.6080],\n",
              "         [0.6220],\n",
              "         [0.6360],\n",
              "         [0.6500],\n",
              "         [0.6640],\n",
              "         [0.6780],\n",
              "         [0.6920],\n",
              "         [0.7060],\n",
              "         [0.7200],\n",
              "         [0.7340],\n",
              "         [0.7480],\n",
              "         [0.7620],\n",
              "         [0.7760],\n",
              "         [0.7900],\n",
              "         [0.8040],\n",
              "         [0.8180],\n",
              "         [0.8320],\n",
              "         [0.8460]]))"
            ]
          },
          "metadata": {},
          "execution_count": 11
        }
      ]
    },
    {
      "cell_type": "markdown",
      "source": [
        "How might we better visualise our data?\n",
        "\n",
        "This is where the data explorers motto comes in\n",
        "\n",
        "Visualise , visualise , visualise !"
      ],
      "metadata": {
        "id": "VU9kjTEQ6TiE"
      }
    },
    {
      "cell_type": "code",
      "source": [
        "\n",
        "from torch import nn\n",
        "import matplotlib.pyplot as plt\n",
        "\n",
        "def plot_predictions(train_data= X_train, # train model on training data\n",
        "                     train_labels = Y_train,\n",
        "                     test_data = X_test,  # compared to predictions\n",
        "                     test_labels=Y_test,\n",
        "                     predictions = None):\n",
        "  \"\"\" Plots training data , test data and compares predictions .\n",
        "  \"\"\"\n",
        "  plt.figure(figsize=(10, 7))\n",
        "\n",
        "  # Plot training data in blue\n",
        "  plt.scatter(train_data, train_labels, c = \"b\", s=4, label = \"Training data \")\n",
        "\n",
        "    # Plot training data in green\n",
        "  plt.scatter(test_data, test_labels, c = \"g\", s=4, label = \"Testing data \")\n",
        "\n",
        "  # Are there predictions .\n",
        "\n",
        "  if predictions is not None:\n",
        "    # Plot the predictions if they exist\n",
        "    plt.scatter(test_data, predictions, c= \"r\", s=4, label=\"Predictions\" )\n",
        "\n",
        "\n",
        "# Show the legend\n",
        "plt.legend(prop={\"size\": 14});\n",
        "\n"
      ],
      "metadata": {
        "colab": {
          "base_uri": "https://localhost:8080/",
          "height": 453
        },
        "id": "_6OFRQE16nXj",
        "outputId": "c4a09836-735f-45ca-d518-fd329868cc90"
      },
      "execution_count": null,
      "outputs": [
        {
          "output_type": "stream",
          "name": "stderr",
          "text": [
            "WARNING:matplotlib.legend:No artists with labels found to put in legend.  Note that artists whose label start with an underscore are ignored when legend() is called with no argument.\n"
          ]
        },
        {
          "output_type": "display_data",
          "data": {
            "text/plain": [
              "<Figure size 640x480 with 1 Axes>"
            ],
            "image/png": "[encoded data removed]"
          },
          "metadata": {}
        }
      ]
    },
    {
      "cell_type": "markdown",
      "source": [
        "##Training data in blue , testing data in green"
      ],
      "metadata": {
        "id": "mgufDDN2CXNz"
      }
    },
    {
      "cell_type": "code",
      "source": [
        "plot_predictions();"
      ],
      "metadata": {
        "colab": {
          "base_uri": "https://localhost:8080/",
          "height": 599
        },
        "id": "kcg9L-PB-qeE",
        "outputId": "51f456e1-c498-4e9e-e0a8-69c32a17bc11"
      },
      "execution_count": null,
      "outputs": [
        {
          "output_type": "display_data",
          "data": {
            "text/plain": [
              "<Figure size 1000x700 with 1 Axes>"
            ],
            "image/png": "[encoded data removed]"
          },
          "metadata": {}
        }
      ]
    },
    {
      "cell_type": "markdown",
      "source": [
        "Simplest dataset\n",
        "You made with a forloop start ,end ,step.\n",
        "\n",
        "We are going to train a model to learn the pattern of the x =  training data\n",
        "To then predict the pattern of y (green)  testing data correctly\n",
        "\n",
        "blue = input\n",
        "green = ideal output\n",
        "\n",
        "---\n",
        "We know the relationship between x and y :\n",
        "\n",
        "Create a known parameter. <br>\n",
        "Weight = 0.7 <br>\n",
        "bias = 0.3.<br>\n",
        "X = torch.arange(start, end, step).unsqueeze(dim=1) <br>\n",
        "Y  = weight * X + bias <br>\n",
        "thats the simple version of the linear regression formula <br>\n",
        "mx + c <br>\n",
        "gradient + intercept <br>\n",
        "\n",
        "Look up linear regression to get an understanding. <br>\n",
        "https://www.youtube.com/results?search_query=linear+regression\n",
        "\n"
      ],
      "metadata": {
        "id": "6kIzA9gTBBaT"
      }
    },
    {
      "cell_type": "code",
      "source": [],
      "metadata": {
        "id": "gTcA8gIQGgOq"
      },
      "execution_count": null,
      "outputs": []
    },
    {
      "cell_type": "markdown",
      "source": [
        "## Building our first pytorch model !\n",
        "\n",
        "We are building classes <br>\n",
        "\n",
        "https://realpython.com/python3-object-oriented-programming/ <br>\n",
        "\n",
        "\n",
        "It going to update the values of the weights and bias below that are being made though these two things.\n",
        "\n",
        "\n",
        "What our models does:\n",
        "\n",
        "* Start with random values (weighty and bias)\n",
        "* Look at training data and adjust random values to better represent (or get closer to the ideal values (the weight and bias values we sued to create the data )\n",
        "\n",
        "How does it do so ?\n",
        "\n",
        "Through two main algorithms:\n",
        "\n",
        " 1. Gradient descent\n",
        " 2. Back propagation\n",
        "\n",
        "\n",
        "\n"
      ],
      "metadata": {
        "id": "t6RLUGqfGyFM"
      }
    },
    {
      "cell_type": "code",
      "source": [
        "from torch import nn\n",
        "from torch import nn\n",
        "import matplotlib.pyplot as plt\n",
        "\n",
        "# Create a linear regression model class\n",
        "\n",
        "\n",
        " # https://pytorch.org/docs/stable/generated/torch.nn.Module.html\n",
        "\n",
        " #Modules can make more modules - yopu can stack these porgressively to make a\n",
        "\n",
        "# Create a linear regression model class\n",
        "class LinearRegressionModel (nn.Module): # <- Almost everything in Pytorch inherits from the nn.module\n",
        "  def __init__(self):\n",
        "    super().__init__()\n",
        "    self.weights =  nn.Parameter(torch.randn(1,\n",
        "                                             requires_grad=True, # requires gradient descent\n",
        "                                             dtype=torch.float))\n",
        "    self.bias = nn.Parameter(torch.randn(1,\n",
        "                                         requires_grad=True,\n",
        "                                         dtype = torch.float))\n",
        "\n",
        "# Forward methodf t ofeine the computation in the model\n",
        "\n",
        "def forward(self,x: torch.Tensor) -> torch.Tensor: # x is the input.training data\n",
        "  return self.weights * x + self.bias # linear regression formula\n"
      ],
      "metadata": {
        "id": "44pUdu33J1sZ"
      },
      "execution_count": 6,
      "outputs": []
    },
    {
      "cell_type": "markdown",
      "source": [
        "### Pytorch model building essientials\n",
        "\n",
        "* torch.nn contains all the buildings for computational graphs  (a nueral network can be considered a computational graph)\n",
        "* torch.nn.Parameter - what parameters should our model try and learn .,\n",
        "* torch.nn.Module - The base class for all nueral networks , if you subclass it you should override forward.\n",
        "* torch.optim - this is where the optimisers learn in pytorch live help will gradient descent  \n",
        "* def forward() all nn.Module sunclasses require you to overwrite forward.\n",
        "    this method defines what happens in the forward computation."
      ],
      "metadata": {
        "id": "-c2Kg9K-2kTK"
      }
    },
    {
      "cell_type": "code",
      "source": [
        "\n",
        "torch.manual_seed(42)\n",
        "torch.randn(1)"
      ],
      "metadata": {
        "colab": {
          "base_uri": "https://localhost:8080/"
        },
        "id": "xfo_DoVNykuq",
        "outputId": "680abe3a-7d5c-4f31-b5e0-92a14741cc82"
      },
      "execution_count": 15,
      "outputs": [
        {
          "output_type": "execute_result",
          "data": {
            "text/plain": [
              "tensor([0.3367])"
            ]
          },
          "metadata": {},
          "execution_count": 15
        }
      ]
    },
    {
      "cell_type": "markdown",
      "source": [
        "### Checking the contents of our pytorch model\n",
        "\n",
        "Now we have created a model, lets see whats inside\n",
        "we can check our model parameters or whats inside our model using . paramters()"
      ],
      "metadata": {
        "id": "VWOV_NMB30xr"
      }
    },
    {
      "cell_type": "code",
      "source": [
        "import torch\n",
        "\n",
        "# Create a random seed\n",
        "torch.manual_seed(43)\n",
        "\n",
        "\n",
        "# Create an instance/cookie  of the class/cooker cutter ( this is the subclass of the nn.Module )\n",
        "model_0 = LinearRegressionModel()\n",
        "model_0\n",
        "\n",
        "# Check out parameters\n",
        "list(model_0.parameters())\n",
        "\n"
      ],
      "metadata": {
        "colab": {
          "base_uri": "https://localhost:8080/"
        },
        "id": "flYXO_MD2jk0",
        "outputId": "62528907-2538-470c-805e-1345fc0e79e4"
      },
      "execution_count": 21,
      "outputs": [
        {
          "output_type": "execute_result",
          "data": {
            "text/plain": [
              "[Parameter containing:\n",
              " tensor([0.2674], requires_grad=True),\n",
              " Parameter containing:\n",
              " tensor([0.5349], requires_grad=True)]"
            ]
          },
          "metadata": {},
          "execution_count": 21
        }
      ]
    },
    {
      "cell_type": "code",
      "source": [
        "# List named parameters\n",
        "\n",
        "model_0.state_dict()"
      ],
      "metadata": {
        "colab": {
          "base_uri": "https://localhost:8080/"
        },
        "id": "tmxf-gok519b",
        "outputId": "fe9bb15a-0b92-4ef7-ee8c-c0c7795f3510"
      },
      "execution_count": 22,
      "outputs": [
        {
          "output_type": "execute_result",
          "data": {
            "text/plain": [
              "OrderedDict([('weights', tensor([0.2674])), ('bias', tensor([0.5349]))])"
            ]
          },
          "metadata": {},
          "execution_count": 22
        }
      ]
    }
  ]
}